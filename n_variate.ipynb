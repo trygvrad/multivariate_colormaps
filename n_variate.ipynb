{
 "cells": [
  {
   "cell_type": "code",
   "execution_count": 1,
   "id": "2eba2cf2-8883-458d-afac-23f17c061fdc",
   "metadata": {},
   "outputs": [],
   "source": [
    "import colorstamps\n",
    "import matplotlib.pyplot as plt\n",
    "import numpy as np\n",
    "import os\n",
    "import backend"
   ]
  },
  {
   "cell_type": "markdown",
   "id": "f99ea92b-ee7c-4f0e-8d24-fddd1c537e80",
   "metadata": {},
   "source": [
    "# n-variate colormaps\n",
    "This notebook generates colormaps that form \n",
    "\n",
    "The colormaps are generated from the ‘CAM02-LCD’ colorspace as defined in the package colorspacious (https://pypi.org/project/colorspacious/)\n",
    "\n",
    "https://github.com/trygvrad/colorstamps/ is used for easy access to this colorspace and visualization\n",
    "\n",
    "In practice, we are looking for vectors that evenly dissects the available colorspace"
   ]
  },
  {
   "cell_type": "code",
   "execution_count": 2,
   "id": "5f04c1a2-ce76-4cbe-a6cb-fc514b9047aa",
   "metadata": {},
   "outputs": [],
   "source": [
    "N2 = 37\n",
    "N = 19\n",
    "colorbar_even_dict = {}\n",
    "versions = ['A', 'B']#, 'C', 'D']\n",
    "radius = 37 # max saturation"
   ]
  },
  {
   "cell_type": "markdown",
   "id": "b1c1a0a8-58ef-47ac-925a-b29aea4c320d",
   "metadata": {},
   "source": [
    "# ADD"
   ]
  },
  {
   "cell_type": "code",
   "execution_count": 3,
   "id": "087da402-9543-4a8c-b75c-e44f2c7c3acb",
   "metadata": {},
   "outputs": [],
   "source": [
    "for n in range(4, 15, 2):\n",
    "    for version, r, max_J in zip(versions, [90/(n*2), -90/n+360/n], [77, 77]):\n",
    "        name = f'{n}VarAdd{version}'\n",
    "        # the range in lightness is adjust so that both colorbars increment at the first level, more than two can be combined (reaches 111 for 3 colormaps)\n",
    "        J = (max_J, 1) # range in lightness \n",
    "        gamma = 0.8\n",
    "        \n",
    "        cmaps = [backend.get_var_J(l = N2, J = J, rot = r + i/n*360.0, r = radius, gamma = gamma)[N,:N][::-1] for i in range(n)] \n",
    "        cmaps = np.array(cmaps)\n",
    "        \n",
    "        # adjust greyscale by slightly shifting colorbars\n",
    "        n2 = n//2\n",
    "        for i in range(N):\n",
    "            for j in range(n2):\n",
    "                factor = 1#i/N-1 #scale the correction with distance from origin, no need to adjust low values\n",
    "                average_RGB = np.average([cmaps[j][i], cmaps[j+n2][i]])\n",
    "                for k in range(3):\n",
    "                    d = average_RGB - np.average([cmaps[j][i, k],cmaps[j+n2][i, k]]) # adjustment to that color to make mix grey \n",
    "                    for c in cmaps[j], cmaps[j+n2]:\n",
    "                        c[i,k] += factor*d\n",
    "        \n",
    "        # ensure origin is rgb = (0,0,0)\n",
    "        # non-linear mixing so that darker colors become more distinct\n",
    "        ls = np.linspace(0,1,N)[:, np.newaxis]**0.3*np.ones((N,3))\n",
    "        for i, cm in enumerate(cmaps):\n",
    "            cmap_b = cmaps[i] - cmaps[i][0,:] # copy with black 0,0,0\n",
    "            cmaps[i] = cmap_b * (1-ls) + cmaps[i] * (ls)\n",
    "        \n",
    "        cmaps[cmaps>1] = 1\n",
    "        cmaps[cmaps<0] = 0\n",
    "        \n",
    "        for i, c in enumerate(cmaps):\n",
    "            colorbar_even_dict[name+str(i)] = np.copy(c)\n",
    "            "
   ]
  },
  {
   "cell_type": "markdown",
   "id": "dc41bebb-8781-4d78-8be7-513f9fad1806",
   "metadata": {},
   "source": [
    "# SUB"
   ]
  },
  {
   "cell_type": "code",
   "execution_count": 4,
   "id": "faf02b13-9158-42e2-9bc2-f48c99f81168",
   "metadata": {},
   "outputs": [],
   "source": [
    "\n",
    "for n in range(4, 15, 2):\n",
    "    for version, r, min_J in zip(versions, [90/n, -90/n+360/n], [77.6, 77.6]):\n",
    "        name = f'{n}VarSub{version}'\n",
    "        # the range in lightness is adjust so that both colorbars increment at the first level, more than two can be combined (reaches 111 for 3 colormaps)\n",
    "        J = (min_J, 128) # range in lightness \n",
    "        \n",
    "        cmaps = [colorstamps.stamps.get_var_J(l = N2, J = J, rot = r + i/n*360.0, r = radius)[N,:N][::-1] for i in range(n)] \n",
    "        cmaps = np.array(cmaps)\n",
    "        \n",
    "            \n",
    "        # adjust greyscale by slightly shifting colorbars\n",
    "        n2 = n//2\n",
    "        for i in range(N):\n",
    "            for j in range(n2):\n",
    "                factor = 1#i/N-1 #scale the correction with distance from origin, no need to adjust low values\n",
    "                average_RGB = np.average([cmaps[j][i], cmaps[j+n2][i]])\n",
    "                for k in range(3):\n",
    "                    d = average_RGB - np.average([cmaps[j][i, k],cmaps[j+n2][i, k]]) # adjustment to that color to make mix grey \n",
    "                    for c in cmaps[j], cmaps[j+n2]:\n",
    "                        c[i,k] += factor*d\n",
    "        \n",
    "        # ensure origin is rgb = (1,1,1)\n",
    "        # non-linear mixing so that darker colors become more distinct\n",
    "        ls = np.linspace(0,1,N)[:, np.newaxis]**0.3*np.ones((N,3))\n",
    "        for i, cm in enumerate(cmaps):\n",
    "            cmap_b = cmaps[i] + (1 - cmaps[i][0,:]) # copy with black 0,0,0\n",
    "            cmaps[i] = cmap_b * (1-ls) + cmaps[i] * (ls)\n",
    "            \n",
    "        cmaps[cmaps>1] = 1\n",
    "        cmaps[cmaps<0] = 0\n",
    "        \n",
    "        for i, c in enumerate(cmaps):\n",
    "            colorbar_even_dict[name+str(i)] = np.copy(c)"
   ]
  },
  {
   "cell_type": "code",
   "execution_count": 5,
   "id": "74d6ed8c-e885-4a92-b5b1-0c759590ee3d",
   "metadata": {},
   "outputs": [
    {
     "data": {
      "text/plain": [
       "dict_keys(['4VarAddA0', '4VarAddA1', '4VarAddA2', '4VarAddA3', '4VarAddB0', '4VarAddB1', '4VarAddB2', '4VarAddB3', '6VarAddA0', '6VarAddA1', '6VarAddA2', '6VarAddA3', '6VarAddA4', '6VarAddA5', '6VarAddB0', '6VarAddB1', '6VarAddB2', '6VarAddB3', '6VarAddB4', '6VarAddB5', '8VarAddA0', '8VarAddA1', '8VarAddA2', '8VarAddA3', '8VarAddA4', '8VarAddA5', '8VarAddA6', '8VarAddA7', '8VarAddB0', '8VarAddB1', '8VarAddB2', '8VarAddB3', '8VarAddB4', '8VarAddB5', '8VarAddB6', '8VarAddB7', '10VarAddA0', '10VarAddA1', '10VarAddA2', '10VarAddA3', '10VarAddA4', '10VarAddA5', '10VarAddA6', '10VarAddA7', '10VarAddA8', '10VarAddA9', '10VarAddB0', '10VarAddB1', '10VarAddB2', '10VarAddB3', '10VarAddB4', '10VarAddB5', '10VarAddB6', '10VarAddB7', '10VarAddB8', '10VarAddB9', '12VarAddA0', '12VarAddA1', '12VarAddA2', '12VarAddA3', '12VarAddA4', '12VarAddA5', '12VarAddA6', '12VarAddA7', '12VarAddA8', '12VarAddA9', '12VarAddA10', '12VarAddA11', '12VarAddB0', '12VarAddB1', '12VarAddB2', '12VarAddB3', '12VarAddB4', '12VarAddB5', '12VarAddB6', '12VarAddB7', '12VarAddB8', '12VarAddB9', '12VarAddB10', '12VarAddB11', '14VarAddA0', '14VarAddA1', '14VarAddA2', '14VarAddA3', '14VarAddA4', '14VarAddA5', '14VarAddA6', '14VarAddA7', '14VarAddA8', '14VarAddA9', '14VarAddA10', '14VarAddA11', '14VarAddA12', '14VarAddA13', '14VarAddB0', '14VarAddB1', '14VarAddB2', '14VarAddB3', '14VarAddB4', '14VarAddB5', '14VarAddB6', '14VarAddB7', '14VarAddB8', '14VarAddB9', '14VarAddB10', '14VarAddB11', '14VarAddB12', '14VarAddB13', '4VarSubA0', '4VarSubA1', '4VarSubA2', '4VarSubA3', '4VarSubB0', '4VarSubB1', '4VarSubB2', '4VarSubB3', '6VarSubA0', '6VarSubA1', '6VarSubA2', '6VarSubA3', '6VarSubA4', '6VarSubA5', '6VarSubB0', '6VarSubB1', '6VarSubB2', '6VarSubB3', '6VarSubB4', '6VarSubB5', '8VarSubA0', '8VarSubA1', '8VarSubA2', '8VarSubA3', '8VarSubA4', '8VarSubA5', '8VarSubA6', '8VarSubA7', '8VarSubB0', '8VarSubB1', '8VarSubB2', '8VarSubB3', '8VarSubB4', '8VarSubB5', '8VarSubB6', '8VarSubB7', '10VarSubA0', '10VarSubA1', '10VarSubA2', '10VarSubA3', '10VarSubA4', '10VarSubA5', '10VarSubA6', '10VarSubA7', '10VarSubA8', '10VarSubA9', '10VarSubB0', '10VarSubB1', '10VarSubB2', '10VarSubB3', '10VarSubB4', '10VarSubB5', '10VarSubB6', '10VarSubB7', '10VarSubB8', '10VarSubB9', '12VarSubA0', '12VarSubA1', '12VarSubA2', '12VarSubA3', '12VarSubA4', '12VarSubA5', '12VarSubA6', '12VarSubA7', '12VarSubA8', '12VarSubA9', '12VarSubA10', '12VarSubA11', '12VarSubB0', '12VarSubB1', '12VarSubB2', '12VarSubB3', '12VarSubB4', '12VarSubB5', '12VarSubB6', '12VarSubB7', '12VarSubB8', '12VarSubB9', '12VarSubB10', '12VarSubB11', '14VarSubA0', '14VarSubA1', '14VarSubA2', '14VarSubA3', '14VarSubA4', '14VarSubA5', '14VarSubA6', '14VarSubA7', '14VarSubA8', '14VarSubA9', '14VarSubA10', '14VarSubA11', '14VarSubA12', '14VarSubA13', '14VarSubB0', '14VarSubB1', '14VarSubB2', '14VarSubB3', '14VarSubB4', '14VarSubB5', '14VarSubB6', '14VarSubB7', '14VarSubB8', '14VarSubB9', '14VarSubB10', '14VarSubB11', '14VarSubB12', '14VarSubB13'])"
      ]
     },
     "execution_count": 5,
     "metadata": {},
     "output_type": "execute_result"
    }
   ],
   "source": [
    "colorbar_even_dict.keys()"
   ]
  },
  {
   "cell_type": "code",
   "execution_count": 6,
   "id": "60d51dda-3c55-4c02-9993-cd5769c8c452",
   "metadata": {},
   "outputs": [
    {
     "name": "stdout",
     "output_type": "stream",
     "text": [
      "dict_keys(['4VarAddA0', '4VarSubA0', '4VarAddA1', '4VarSubA1', '4VarAddA2', '4VarSubA2', '4VarAddA3', '4VarSubA3', '4VarAddB0', '4VarSubB0', '4VarAddB1', '4VarSubB1', '4VarAddB2', '4VarSubB2', '4VarAddB3', '4VarSubB3', '6VarAddA0', '6VarSubA0', '6VarAddA1', '6VarSubA1', '6VarAddA2', '6VarSubA2', '6VarAddA3', '6VarSubA3', '6VarAddA4', '6VarSubA4', '6VarAddA5', '6VarSubA5', '8VarAddA0', '8VarSubA0', '8VarAddA1', '8VarSubA1', '8VarAddA2', '8VarSubA2', '8VarAddA3', '8VarSubA3', '8VarAddA4', '8VarSubA4', '8VarAddA5', '8VarSubA5', '8VarAddA6', '8VarSubA6', '8VarAddA7', '8VarSubA7', '5VarAddA0', '5VarSubA0', '5VarAddA1', '5VarSubA1', '5VarAddA2', '5VarSubA2', '5VarAddA3', '5VarSubA3', '5VarAddA4', '5VarSubA4', '7VarAddA0', '7VarSubA0', '7VarAddA1', '7VarSubA1', '7VarAddA2', '7VarSubA2', '7VarAddA3', '7VarSubA3', '7VarAddA4', '7VarSubA4', '7VarAddA5', '7VarSubA5', '7VarAddA6', '7VarSubA6'])\n"
     ]
    }
   ],
   "source": [
    "colorbar_dict = {}\n",
    "# transfer even\n",
    "for n in range(4, 9, 2):\n",
    "    if n == 4:\n",
    "        v = versions\n",
    "    else:\n",
    "        v = ['A']\n",
    "    for version in v:\n",
    "        for i in range(n):\n",
    "            for typ in ['Add', 'Sub']:\n",
    "                name = f'{n}Var{typ}{version}{i}'\n",
    "                colorbar_dict[name]  = colorbar_even_dict[name]\n",
    "            #print(name)\n",
    "# transfer odd\n",
    "for n in range(5, 8, 2):\n",
    "    v = ['A']\n",
    "    for version in v:\n",
    "        for i in range(n):\n",
    "            for typ in ['Add', 'Sub']:\n",
    "                name = f'{2*n}Var{typ}{version}{i*2+1}'\n",
    "                new_name = f'{n}Var{typ}{version}{i}'\n",
    "                colorbar_dict[new_name]  = colorbar_even_dict[name]\n",
    "            #print(new_name)\n",
    "print(colorbar_dict.keys())"
   ]
  },
  {
   "cell_type": "markdown",
   "id": "9c11ce78-7c4a-4d9e-89a2-a0c2a25e3547",
   "metadata": {
    "tags": []
   },
   "source": [
    "# Save"
   ]
  },
  {
   "cell_type": "code",
   "execution_count": 7,
   "id": "4758d3b2-293c-4234-aadf-93e8366939fa",
   "metadata": {},
   "outputs": [],
   "source": [
    "import pickle\n",
    "with open(r\"n_multivariate_cmaps.pickle\", \"wb\") as output_file:\n",
    "    pickle.dump(colorbar_dict, output_file)"
   ]
  },
  {
   "cell_type": "code",
   "execution_count": null,
   "id": "6c072c3f-ae9a-4019-ae5d-b56770692210",
   "metadata": {},
   "outputs": [],
   "source": []
  }
 ],
 "metadata": {
  "kernelspec": {
   "display_name": "Python 3 (ipykernel)",
   "language": "python",
   "name": "python3"
  },
  "language_info": {
   "codemirror_mode": {
    "name": "ipython",
    "version": 3
   },
   "file_extension": ".py",
   "mimetype": "text/x-python",
   "name": "python",
   "nbconvert_exporter": "python",
   "pygments_lexer": "ipython3",
   "version": "3.11.7"
  }
 },
 "nbformat": 4,
 "nbformat_minor": 5
}
