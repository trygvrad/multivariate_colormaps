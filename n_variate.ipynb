{
 "cells": [
  {
   "cell_type": "code",
   "execution_count": 1,
   "id": "2eba2cf2-8883-458d-afac-23f17c061fdc",
   "metadata": {},
   "outputs": [],
   "source": [
    "import colorstamps\n",
    "import matplotlib.pyplot as plt\n",
    "import numpy as np\n",
    "import os"
   ]
  },
  {
   "cell_type": "markdown",
   "id": "f99ea92b-ee7c-4f0e-8d24-fddd1c537e80",
   "metadata": {},
   "source": [
    "# n-variate colormaps\n",
    "This notebook generates colormaps that form \n",
    "\n",
    "The colormaps are generated from the ‘CAM02-LCD’ colorspace as defined in the package colorspacious (https://pypi.org/project/colorspacious/)\n",
    "\n",
    "https://github.com/trygvrad/colorstamps/ is used for easy access to this colorspace and visualization\n",
    "\n",
    "In practice, we are looking for vectors that evenly dissects the available colorspace"
   ]
  },
  {
   "cell_type": "code",
   "execution_count": 2,
   "id": "5f04c1a2-ce76-4cbe-a6cb-fc514b9047aa",
   "metadata": {},
   "outputs": [],
   "source": [
    "colorbar_even_dict = {}\n",
    "versions = ['A', 'B', 'C', 'D']\n",
    "radius = 37 # max saturation"
   ]
  },
  {
   "cell_type": "markdown",
   "id": "b1c1a0a8-58ef-47ac-925a-b29aea4c320d",
   "metadata": {},
   "source": [
    "# ADD"
   ]
  },
  {
   "cell_type": "code",
   "execution_count": 3,
   "id": "087da402-9543-4a8c-b75c-e44f2c7c3acb",
   "metadata": {},
   "outputs": [],
   "source": [
    "for n in range(4, 15, 2):\n",
    "    for version, r, max_J in zip(versions, [90/(n*2), -90/n+360/n, 90/n, -90/n+360/n], [56, 56, 77, 77]):\n",
    "        name = f'{n}VarAdd{version}'\n",
    "        # the range in lightness is adjust so that both colorbars increment at the first level, more than two can be combined (reaches 111 for 3 colormaps)\n",
    "        J = (max_J, 0.75) # range in lightness \n",
    "        \n",
    "        cmaps = [colorstamps.stamps.get_var_J(l = 512, J = J, rot = r + i/n*360.0, r = radius)[256,:256][::-1] for i in range(n)] \n",
    "        cmaps = np.array(cmaps)\n",
    "        for c in cmaps:\n",
    "            c[:,:] -= c[0,:][np.newaxis,:]\n",
    "        \n",
    "        \n",
    "        # adjust greyscale by slightly shifting colorbars\n",
    "        n2 = n//2\n",
    "        for i in range(256):\n",
    "            for j in range(n2):\n",
    "                factor = 1#i/255 #scale the correction with distance from origin, no need to adjust low values\n",
    "                average_RGB = np.average([cmaps[j][i], cmaps[j+n2][i]])\n",
    "                for k in range(3):\n",
    "                    d = average_RGB - np.average([cmaps[j][i, k],cmaps[j+n2][i, k]]) # adjustment to that color to make mix grey \n",
    "                    for c in cmaps[j], cmaps[j+n2]:\n",
    "                        c[i,k] += factor*d\n",
    "        \n",
    "        cmaps[cmaps>1] = 1\n",
    "        cmaps[cmaps<0] = 0\n",
    "        \n",
    "        for i, c in enumerate(cmaps):\n",
    "            colorbar_even_dict[name+str(i)] = np.copy(c)\n",
    "            "
   ]
  },
  {
   "cell_type": "markdown",
   "id": "dc41bebb-8781-4d78-8be7-513f9fad1806",
   "metadata": {},
   "source": [
    "# SUB"
   ]
  },
  {
   "cell_type": "code",
   "execution_count": 4,
   "id": "faf02b13-9158-42e2-9bc2-f48c99f81168",
   "metadata": {},
   "outputs": [],
   "source": [
    "\n",
    "for n in range(4, 15, 2):\n",
    "    for version, r, min_J in zip(versions, [90/n, -90/n+360/n, 90/n, -90/n+360/n], [97, 97, 77.6, 77.6]):\n",
    "        name = f'{n}VarSub{version}'\n",
    "        # the range in lightness is adjust so that both colorbars increment at the first level, more than two can be combined (reaches 111 for 3 colormaps)\n",
    "        J = (min_J, 128) # range in lightness \n",
    "        \n",
    "        cmaps = [colorstamps.stamps.get_var_J(l = 512, J = J, rot = r + i/n*360.0, r = radius)[256,:256][::-1] for i in range(n)] \n",
    "        cmaps = np.array(cmaps)\n",
    "        \n",
    "        # adjust origin to 1\n",
    "        for c in cmaps:\n",
    "            c[:,:] += 1-c[0,:][np.newaxis,:]\n",
    "        \n",
    "        # adjust greyscale by slightly shifting colorbars\n",
    "        n2 = n//2\n",
    "        for i in range(256):\n",
    "            for j in range(n2):\n",
    "                factor = 1#i/255 #scale the correction with distance from origin, no need to adjust low values\n",
    "                average_RGB = np.average([cmaps[j][i], cmaps[j+n2][i]])\n",
    "                for k in range(3):\n",
    "                    d = average_RGB - np.average([cmaps[j][i, k],cmaps[j+n2][i, k]]) # adjustment to that color to make mix grey \n",
    "                    for c in cmaps[j], cmaps[j+n2]:\n",
    "                        c[i,k] += factor*d\n",
    "        \n",
    "        cmaps[cmaps>1] = 1\n",
    "        cmaps[cmaps<0] = 0\n",
    "        \n",
    "        for i, c in enumerate(cmaps):\n",
    "            colorbar_even_dict[name+str(i)] = np.copy(c)"
   ]
  },
  {
   "cell_type": "code",
   "execution_count": 5,
   "id": "74d6ed8c-e885-4a92-b5b1-0c759590ee3d",
   "metadata": {},
   "outputs": [
    {
     "data": {
      "text/plain": [
       "dict_keys(['4VarAddA0', '4VarAddA1', '4VarAddA2', '4VarAddA3', '4VarAddB0', '4VarAddB1', '4VarAddB2', '4VarAddB3', '4VarAddC0', '4VarAddC1', '4VarAddC2', '4VarAddC3', '4VarAddD0', '4VarAddD1', '4VarAddD2', '4VarAddD3', '6VarAddA0', '6VarAddA1', '6VarAddA2', '6VarAddA3', '6VarAddA4', '6VarAddA5', '6VarAddB0', '6VarAddB1', '6VarAddB2', '6VarAddB3', '6VarAddB4', '6VarAddB5', '6VarAddC0', '6VarAddC1', '6VarAddC2', '6VarAddC3', '6VarAddC4', '6VarAddC5', '6VarAddD0', '6VarAddD1', '6VarAddD2', '6VarAddD3', '6VarAddD4', '6VarAddD5', '8VarAddA0', '8VarAddA1', '8VarAddA2', '8VarAddA3', '8VarAddA4', '8VarAddA5', '8VarAddA6', '8VarAddA7', '8VarAddB0', '8VarAddB1', '8VarAddB2', '8VarAddB3', '8VarAddB4', '8VarAddB5', '8VarAddB6', '8VarAddB7', '8VarAddC0', '8VarAddC1', '8VarAddC2', '8VarAddC3', '8VarAddC4', '8VarAddC5', '8VarAddC6', '8VarAddC7', '8VarAddD0', '8VarAddD1', '8VarAddD2', '8VarAddD3', '8VarAddD4', '8VarAddD5', '8VarAddD6', '8VarAddD7', '10VarAddA0', '10VarAddA1', '10VarAddA2', '10VarAddA3', '10VarAddA4', '10VarAddA5', '10VarAddA6', '10VarAddA7', '10VarAddA8', '10VarAddA9', '10VarAddB0', '10VarAddB1', '10VarAddB2', '10VarAddB3', '10VarAddB4', '10VarAddB5', '10VarAddB6', '10VarAddB7', '10VarAddB8', '10VarAddB9', '10VarAddC0', '10VarAddC1', '10VarAddC2', '10VarAddC3', '10VarAddC4', '10VarAddC5', '10VarAddC6', '10VarAddC7', '10VarAddC8', '10VarAddC9', '10VarAddD0', '10VarAddD1', '10VarAddD2', '10VarAddD3', '10VarAddD4', '10VarAddD5', '10VarAddD6', '10VarAddD7', '10VarAddD8', '10VarAddD9', '12VarAddA0', '12VarAddA1', '12VarAddA2', '12VarAddA3', '12VarAddA4', '12VarAddA5', '12VarAddA6', '12VarAddA7', '12VarAddA8', '12VarAddA9', '12VarAddA10', '12VarAddA11', '12VarAddB0', '12VarAddB1', '12VarAddB2', '12VarAddB3', '12VarAddB4', '12VarAddB5', '12VarAddB6', '12VarAddB7', '12VarAddB8', '12VarAddB9', '12VarAddB10', '12VarAddB11', '12VarAddC0', '12VarAddC1', '12VarAddC2', '12VarAddC3', '12VarAddC4', '12VarAddC5', '12VarAddC6', '12VarAddC7', '12VarAddC8', '12VarAddC9', '12VarAddC10', '12VarAddC11', '12VarAddD0', '12VarAddD1', '12VarAddD2', '12VarAddD3', '12VarAddD4', '12VarAddD5', '12VarAddD6', '12VarAddD7', '12VarAddD8', '12VarAddD9', '12VarAddD10', '12VarAddD11', '14VarAddA0', '14VarAddA1', '14VarAddA2', '14VarAddA3', '14VarAddA4', '14VarAddA5', '14VarAddA6', '14VarAddA7', '14VarAddA8', '14VarAddA9', '14VarAddA10', '14VarAddA11', '14VarAddA12', '14VarAddA13', '14VarAddB0', '14VarAddB1', '14VarAddB2', '14VarAddB3', '14VarAddB4', '14VarAddB5', '14VarAddB6', '14VarAddB7', '14VarAddB8', '14VarAddB9', '14VarAddB10', '14VarAddB11', '14VarAddB12', '14VarAddB13', '14VarAddC0', '14VarAddC1', '14VarAddC2', '14VarAddC3', '14VarAddC4', '14VarAddC5', '14VarAddC6', '14VarAddC7', '14VarAddC8', '14VarAddC9', '14VarAddC10', '14VarAddC11', '14VarAddC12', '14VarAddC13', '14VarAddD0', '14VarAddD1', '14VarAddD2', '14VarAddD3', '14VarAddD4', '14VarAddD5', '14VarAddD6', '14VarAddD7', '14VarAddD8', '14VarAddD9', '14VarAddD10', '14VarAddD11', '14VarAddD12', '14VarAddD13', '4VarSubA0', '4VarSubA1', '4VarSubA2', '4VarSubA3', '4VarSubB0', '4VarSubB1', '4VarSubB2', '4VarSubB3', '4VarSubC0', '4VarSubC1', '4VarSubC2', '4VarSubC3', '4VarSubD0', '4VarSubD1', '4VarSubD2', '4VarSubD3', '6VarSubA0', '6VarSubA1', '6VarSubA2', '6VarSubA3', '6VarSubA4', '6VarSubA5', '6VarSubB0', '6VarSubB1', '6VarSubB2', '6VarSubB3', '6VarSubB4', '6VarSubB5', '6VarSubC0', '6VarSubC1', '6VarSubC2', '6VarSubC3', '6VarSubC4', '6VarSubC5', '6VarSubD0', '6VarSubD1', '6VarSubD2', '6VarSubD3', '6VarSubD4', '6VarSubD5', '8VarSubA0', '8VarSubA1', '8VarSubA2', '8VarSubA3', '8VarSubA4', '8VarSubA5', '8VarSubA6', '8VarSubA7', '8VarSubB0', '8VarSubB1', '8VarSubB2', '8VarSubB3', '8VarSubB4', '8VarSubB5', '8VarSubB6', '8VarSubB7', '8VarSubC0', '8VarSubC1', '8VarSubC2', '8VarSubC3', '8VarSubC4', '8VarSubC5', '8VarSubC6', '8VarSubC7', '8VarSubD0', '8VarSubD1', '8VarSubD2', '8VarSubD3', '8VarSubD4', '8VarSubD5', '8VarSubD6', '8VarSubD7', '10VarSubA0', '10VarSubA1', '10VarSubA2', '10VarSubA3', '10VarSubA4', '10VarSubA5', '10VarSubA6', '10VarSubA7', '10VarSubA8', '10VarSubA9', '10VarSubB0', '10VarSubB1', '10VarSubB2', '10VarSubB3', '10VarSubB4', '10VarSubB5', '10VarSubB6', '10VarSubB7', '10VarSubB8', '10VarSubB9', '10VarSubC0', '10VarSubC1', '10VarSubC2', '10VarSubC3', '10VarSubC4', '10VarSubC5', '10VarSubC6', '10VarSubC7', '10VarSubC8', '10VarSubC9', '10VarSubD0', '10VarSubD1', '10VarSubD2', '10VarSubD3', '10VarSubD4', '10VarSubD5', '10VarSubD6', '10VarSubD7', '10VarSubD8', '10VarSubD9', '12VarSubA0', '12VarSubA1', '12VarSubA2', '12VarSubA3', '12VarSubA4', '12VarSubA5', '12VarSubA6', '12VarSubA7', '12VarSubA8', '12VarSubA9', '12VarSubA10', '12VarSubA11', '12VarSubB0', '12VarSubB1', '12VarSubB2', '12VarSubB3', '12VarSubB4', '12VarSubB5', '12VarSubB6', '12VarSubB7', '12VarSubB8', '12VarSubB9', '12VarSubB10', '12VarSubB11', '12VarSubC0', '12VarSubC1', '12VarSubC2', '12VarSubC3', '12VarSubC4', '12VarSubC5', '12VarSubC6', '12VarSubC7', '12VarSubC8', '12VarSubC9', '12VarSubC10', '12VarSubC11', '12VarSubD0', '12VarSubD1', '12VarSubD2', '12VarSubD3', '12VarSubD4', '12VarSubD5', '12VarSubD6', '12VarSubD7', '12VarSubD8', '12VarSubD9', '12VarSubD10', '12VarSubD11', '14VarSubA0', '14VarSubA1', '14VarSubA2', '14VarSubA3', '14VarSubA4', '14VarSubA5', '14VarSubA6', '14VarSubA7', '14VarSubA8', '14VarSubA9', '14VarSubA10', '14VarSubA11', '14VarSubA12', '14VarSubA13', '14VarSubB0', '14VarSubB1', '14VarSubB2', '14VarSubB3', '14VarSubB4', '14VarSubB5', '14VarSubB6', '14VarSubB7', '14VarSubB8', '14VarSubB9', '14VarSubB10', '14VarSubB11', '14VarSubB12', '14VarSubB13', '14VarSubC0', '14VarSubC1', '14VarSubC2', '14VarSubC3', '14VarSubC4', '14VarSubC5', '14VarSubC6', '14VarSubC7', '14VarSubC8', '14VarSubC9', '14VarSubC10', '14VarSubC11', '14VarSubC12', '14VarSubC13', '14VarSubD0', '14VarSubD1', '14VarSubD2', '14VarSubD3', '14VarSubD4', '14VarSubD5', '14VarSubD6', '14VarSubD7', '14VarSubD8', '14VarSubD9', '14VarSubD10', '14VarSubD11', '14VarSubD12', '14VarSubD13'])"
      ]
     },
     "execution_count": 5,
     "metadata": {},
     "output_type": "execute_result"
    }
   ],
   "source": [
    "colorbar_even_dict.keys()"
   ]
  },
  {
   "cell_type": "code",
   "execution_count": 6,
   "id": "60d51dda-3c55-4c02-9993-cd5769c8c452",
   "metadata": {},
   "outputs": [
    {
     "name": "stdout",
     "output_type": "stream",
     "text": [
      "dict_keys(['4VarAddA0', '4VarSubA0', '4VarAddA1', '4VarSubA1', '4VarAddA2', '4VarSubA2', '4VarAddA3', '4VarSubA3', '4VarAddB0', '4VarSubB0', '4VarAddB1', '4VarSubB1', '4VarAddB2', '4VarSubB2', '4VarAddB3', '4VarSubB3', '4VarAddC0', '4VarSubC0', '4VarAddC1', '4VarSubC1', '4VarAddC2', '4VarSubC2', '4VarAddC3', '4VarSubC3', '4VarAddD0', '4VarSubD0', '4VarAddD1', '4VarSubD1', '4VarAddD2', '4VarSubD2', '4VarAddD3', '4VarSubD3', '6VarAddA0', '6VarSubA0', '6VarAddA1', '6VarSubA1', '6VarAddA2', '6VarSubA2', '6VarAddA3', '6VarSubA3', '6VarAddA4', '6VarSubA4', '6VarAddA5', '6VarSubA5', '6VarAddC0', '6VarSubC0', '6VarAddC1', '6VarSubC1', '6VarAddC2', '6VarSubC2', '6VarAddC3', '6VarSubC3', '6VarAddC4', '6VarSubC4', '6VarAddC5', '6VarSubC5', '8VarAddA0', '8VarSubA0', '8VarAddA1', '8VarSubA1', '8VarAddA2', '8VarSubA2', '8VarAddA3', '8VarSubA3', '8VarAddA4', '8VarSubA4', '8VarAddA5', '8VarSubA5', '8VarAddA6', '8VarSubA6', '8VarAddA7', '8VarSubA7', '8VarAddC0', '8VarSubC0', '8VarAddC1', '8VarSubC1', '8VarAddC2', '8VarSubC2', '8VarAddC3', '8VarSubC3', '8VarAddC4', '8VarSubC4', '8VarAddC5', '8VarSubC5', '8VarAddC6', '8VarSubC6', '8VarAddC7', '8VarSubC7', '5VarAddA0', '5VarSubA0', '5VarAddA1', '5VarSubA1', '5VarAddA2', '5VarSubA2', '5VarAddA3', '5VarSubA3', '5VarAddA4', '5VarSubA4', '5VarAddC0', '5VarSubC0', '5VarAddC1', '5VarSubC1', '5VarAddC2', '5VarSubC2', '5VarAddC3', '5VarSubC3', '5VarAddC4', '5VarSubC4', '7VarAddA0', '7VarSubA0', '7VarAddA1', '7VarSubA1', '7VarAddA2', '7VarSubA2', '7VarAddA3', '7VarSubA3', '7VarAddA4', '7VarSubA4', '7VarAddA5', '7VarSubA5', '7VarAddA6', '7VarSubA6', '7VarAddC0', '7VarSubC0', '7VarAddC1', '7VarSubC1', '7VarAddC2', '7VarSubC2', '7VarAddC3', '7VarSubC3', '7VarAddC4', '7VarSubC4', '7VarAddC5', '7VarSubC5', '7VarAddC6', '7VarSubC6'])\n"
     ]
    }
   ],
   "source": [
    "colorbar_dict = {}\n",
    "# transfer even\n",
    "for n in range(4, 9, 2):\n",
    "    if n == 4:\n",
    "        v = versions\n",
    "    else:\n",
    "        v = ['A', 'C']\n",
    "    for version in v:\n",
    "        for i in range(n):\n",
    "            for typ in ['Add', 'Sub']:\n",
    "                name = f'{n}Var{typ}{version}{i}'\n",
    "                colorbar_dict[name]  = colorbar_even_dict[name]\n",
    "            #print(name)\n",
    "# transfer odd\n",
    "for n in range(5, 8, 2):\n",
    "    v = ['A', 'C']\n",
    "    for version in v:\n",
    "        for i in range(n):\n",
    "            for typ in ['Add', 'Sub']:\n",
    "                name = f'{2*n}Var{typ}{version}{i*2+1}'\n",
    "                new_name = f'{n}Var{typ}{version}{i}'\n",
    "                colorbar_dict[new_name]  = colorbar_even_dict[name]\n",
    "            #print(new_name)\n",
    "print(colorbar_dict.keys())"
   ]
  },
  {
   "cell_type": "markdown",
   "id": "9c11ce78-7c4a-4d9e-89a2-a0c2a25e3547",
   "metadata": {
    "tags": []
   },
   "source": [
    "# Save"
   ]
  },
  {
   "cell_type": "code",
   "execution_count": 7,
   "id": "4758d3b2-293c-4234-aadf-93e8366939fa",
   "metadata": {},
   "outputs": [],
   "source": [
    "import pickle\n",
    "with open(r\"n_multivariate_cmaps.pickle\", \"wb\") as output_file:\n",
    "    pickle.dump(colorbar_dict, output_file)"
   ]
  },
  {
   "cell_type": "code",
   "execution_count": 8,
   "id": "af2c95ee-ccd7-4a3a-b794-c6457b94590e",
   "metadata": {},
   "outputs": [
    {
     "ename": "KeyError",
     "evalue": "'2VarSubA0'",
     "output_type": "error",
     "traceback": [
      "\u001b[0;31m---------------------------------------------------------------------------\u001b[0m",
      "\u001b[0;31mKeyError\u001b[0m                                  Traceback (most recent call last)",
      "\u001b[0;32m/tmp/ipykernel_41437/4009873435.py\u001b[0m in \u001b[0;36m<module>\u001b[0;34m\u001b[0m\n\u001b[1;32m     11\u001b[0m     \u001b[0;32mfor\u001b[0m \u001b[0mversion\u001b[0m \u001b[0;32min\u001b[0m \u001b[0mv\u001b[0m\u001b[0;34m:\u001b[0m\u001b[0;34m\u001b[0m\u001b[0;34m\u001b[0m\u001b[0m\n\u001b[1;32m     12\u001b[0m         \u001b[0mname\u001b[0m \u001b[0;34m=\u001b[0m \u001b[0;34mf'{n}VarSub{version}'\u001b[0m\u001b[0;34m\u001b[0m\u001b[0;34m\u001b[0m\u001b[0m\n\u001b[0;32m---> 13\u001b[0;31m         \u001b[0mcmaps\u001b[0m \u001b[0;34m=\u001b[0m \u001b[0;34m[\u001b[0m\u001b[0mcolorbar_dict\u001b[0m\u001b[0;34m[\u001b[0m\u001b[0;34mf'{name}{i}'\u001b[0m\u001b[0;34m]\u001b[0m \u001b[0;32mfor\u001b[0m \u001b[0mi\u001b[0m \u001b[0;32min\u001b[0m \u001b[0mrange\u001b[0m\u001b[0;34m(\u001b[0m\u001b[0mn\u001b[0m\u001b[0;34m)\u001b[0m\u001b[0;34m]\u001b[0m\u001b[0;34m\u001b[0m\u001b[0;34m\u001b[0m\u001b[0m\n\u001b[0m\u001b[1;32m     14\u001b[0m         \u001b[0;31m# plot colorbars\u001b[0m\u001b[0;34m\u001b[0m\u001b[0;34m\u001b[0m\u001b[0;34m\u001b[0m\u001b[0m\n\u001b[1;32m     15\u001b[0m         \u001b[0mfig\u001b[0m\u001b[0;34m,\u001b[0m \u001b[0maxes\u001b[0m \u001b[0;34m=\u001b[0m \u001b[0mplt\u001b[0m\u001b[0;34m.\u001b[0m\u001b[0msubplots\u001b[0m\u001b[0;34m(\u001b[0m\u001b[0;36m4\u001b[0m\u001b[0;34m,\u001b[0m \u001b[0mn\u001b[0m\u001b[0;34m,\u001b[0m \u001b[0mfigsize\u001b[0m \u001b[0;34m=\u001b[0m \u001b[0;34m(\u001b[0m\u001b[0mn\u001b[0m\u001b[0;34m*\u001b[0m\u001b[0;36m3\u001b[0m\u001b[0;34m,\u001b[0m \u001b[0;36m12\u001b[0m\u001b[0;34m)\u001b[0m\u001b[0;34m,\u001b[0m \u001b[0mdpi\u001b[0m \u001b[0;34m=\u001b[0m \u001b[0;36m200\u001b[0m\u001b[0;34m,\u001b[0m \u001b[0mfacecolor\u001b[0m \u001b[0;34m=\u001b[0m \u001b[0;34m'w'\u001b[0m\u001b[0;34m)\u001b[0m\u001b[0;34m\u001b[0m\u001b[0;34m\u001b[0m\u001b[0m\n",
      "\u001b[0;32m/tmp/ipykernel_41437/4009873435.py\u001b[0m in \u001b[0;36m<listcomp>\u001b[0;34m(.0)\u001b[0m\n\u001b[1;32m     11\u001b[0m     \u001b[0;32mfor\u001b[0m \u001b[0mversion\u001b[0m \u001b[0;32min\u001b[0m \u001b[0mv\u001b[0m\u001b[0;34m:\u001b[0m\u001b[0;34m\u001b[0m\u001b[0;34m\u001b[0m\u001b[0m\n\u001b[1;32m     12\u001b[0m         \u001b[0mname\u001b[0m \u001b[0;34m=\u001b[0m \u001b[0;34mf'{n}VarSub{version}'\u001b[0m\u001b[0;34m\u001b[0m\u001b[0;34m\u001b[0m\u001b[0m\n\u001b[0;32m---> 13\u001b[0;31m         \u001b[0mcmaps\u001b[0m \u001b[0;34m=\u001b[0m \u001b[0;34m[\u001b[0m\u001b[0mcolorbar_dict\u001b[0m\u001b[0;34m[\u001b[0m\u001b[0;34mf'{name}{i}'\u001b[0m\u001b[0;34m]\u001b[0m \u001b[0;32mfor\u001b[0m \u001b[0mi\u001b[0m \u001b[0;32min\u001b[0m \u001b[0mrange\u001b[0m\u001b[0;34m(\u001b[0m\u001b[0mn\u001b[0m\u001b[0;34m)\u001b[0m\u001b[0;34m]\u001b[0m\u001b[0;34m\u001b[0m\u001b[0;34m\u001b[0m\u001b[0m\n\u001b[0m\u001b[1;32m     14\u001b[0m         \u001b[0;31m# plot colorbars\u001b[0m\u001b[0;34m\u001b[0m\u001b[0;34m\u001b[0m\u001b[0;34m\u001b[0m\u001b[0m\n\u001b[1;32m     15\u001b[0m         \u001b[0mfig\u001b[0m\u001b[0;34m,\u001b[0m \u001b[0maxes\u001b[0m \u001b[0;34m=\u001b[0m \u001b[0mplt\u001b[0m\u001b[0;34m.\u001b[0m\u001b[0msubplots\u001b[0m\u001b[0;34m(\u001b[0m\u001b[0;36m4\u001b[0m\u001b[0;34m,\u001b[0m \u001b[0mn\u001b[0m\u001b[0;34m,\u001b[0m \u001b[0mfigsize\u001b[0m \u001b[0;34m=\u001b[0m \u001b[0;34m(\u001b[0m\u001b[0mn\u001b[0m\u001b[0;34m*\u001b[0m\u001b[0;36m3\u001b[0m\u001b[0;34m,\u001b[0m \u001b[0;36m12\u001b[0m\u001b[0;34m)\u001b[0m\u001b[0;34m,\u001b[0m \u001b[0mdpi\u001b[0m \u001b[0;34m=\u001b[0m \u001b[0;36m200\u001b[0m\u001b[0;34m,\u001b[0m \u001b[0mfacecolor\u001b[0m \u001b[0;34m=\u001b[0m \u001b[0;34m'w'\u001b[0m\u001b[0;34m)\u001b[0m\u001b[0;34m\u001b[0m\u001b[0;34m\u001b[0m\u001b[0m\n",
      "\u001b[0;31mKeyError\u001b[0m: '2VarSubA0'"
     ]
    }
   ],
   "source": [
    "for n in range(2, 9, 1):\n",
    "    folder = f'comlormap_plots/{n}/'\n",
    "    if not os.path.exists(folder):\n",
    "        os.makedirs(folder)\n",
    "    if n == 2:\n",
    "        v = ['A','B']\n",
    "    elif n < 5:\n",
    "        v = versions\n",
    "    else:\n",
    "        v = ['A', 'C']\n",
    "    for version in v:\n",
    "        name = f'{n}VarSub{version}'\n",
    "        cmaps = [colorbar_dict[f'{name}{i}'] for i in range(n)]\n",
    "        # plot colorbars\n",
    "        fig, axes = plt.subplots(4, n, figsize = (n*3, 12), dpi = 200, facecolor = 'w')\n",
    "        axes = np.atleast_2d(axes)\n",
    "        for i in range(n):\n",
    "            axes[0,i].imshow(cmaps[i]*np.ones((256,256,3)))\n",
    "            deuteranopia = colorspacious.cspace_convert(cmaps[i]*np.ones((256,256,3)), cvd_d, \"sRGB1\")\n",
    "            deuteranopia[deuteranopia<0] = 0\n",
    "            deuteranopia[deuteranopia>1] = 1\n",
    "            axes[1,i].imshow(deuteranopia)\n",
    "            axes[1,i].set_title('deuteranopia')\n",
    "            protanomaly = colorspacious.cspace_convert(cmaps[i]*np.ones((256,256,3)), cvd_p, \"sRGB1\")\n",
    "            protanomaly[protanomaly<0] = 0\n",
    "            protanomaly[protanomaly>1] = 1\n",
    "            axes[2,i].imshow(protanomaly)\n",
    "            axes[2,i].set_title('protanomaly')\n",
    "            tritanomaly = colorspacious.cspace_convert(cmaps[i]*np.ones((256,256,3)), cvd_t, \"sRGB1\")\n",
    "            tritanomaly[tritanomaly<0] = 0\n",
    "            tritanomaly[tritanomaly>1] = 1\n",
    "            axes[3,i].imshow(tritanomaly)\n",
    "            axes[3,i].set_title('tritanomaly')\n",
    "        for ax in axes.ravel():\n",
    "            ax.set_xticks([])\n",
    "            ax.set_yticks([])\n",
    "        fig.tight_layout()\n",
    "        fig.savefig(folder+name+'cmaps.png')\n",
    "        plt.close(fig)\n",
    "        \n",
    "        # make all 2D cmaps\n",
    "        fig, axes = plt.subplots(n*(n-1)//2,5, figsize = (12,3*n*(n-1)//2), dpi = 100, facecolor = 'w')\n",
    "        axes = np.atleast_2d(axes)\n",
    "        k = 0\n",
    "        for i in range(n):\n",
    "            for j in range(i+1,n):\n",
    "                cmap = 1 -(1 -cmaps[i][:,np.newaxis]) -(1 -cmaps[j][np.newaxis,:])\n",
    "                cmap[cmap<0] = 0\n",
    "                cmap[cmap>1] = 1\n",
    "                colorstamps.Stamp(cmap[:,:]*(1-2e-5) + 1e-5).eval(axes[k]) # include a delta (+1e-5) to avoid error\n",
    "                axes[k,0].set_title(f'{i} vs {j}')\n",
    "                k += 1\n",
    "        fig.tight_layout()\n",
    "        print(folder+name+'compare.png', end = '\\r')\n",
    "        plt.close(fig)"
   ]
  },
  {
   "cell_type": "code",
   "execution_count": null,
   "id": "6c072c3f-ae9a-4019-ae5d-b56770692210",
   "metadata": {},
   "outputs": [],
   "source": []
  }
 ],
 "metadata": {
  "kernelspec": {
   "display_name": "Python 3 (ipykernel)",
   "language": "python",
   "name": "python3"
  },
  "language_info": {
   "codemirror_mode": {
    "name": "ipython",
    "version": 3
   },
   "file_extension": ".py",
   "mimetype": "text/x-python",
   "name": "python",
   "nbconvert_exporter": "python",
   "pygments_lexer": "ipython3",
   "version": "3.8.10"
  }
 },
 "nbformat": 4,
 "nbformat_minor": 5
}
