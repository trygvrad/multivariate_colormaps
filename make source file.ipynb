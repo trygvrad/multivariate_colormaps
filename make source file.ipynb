{
 "cells": [
  {
   "cell_type": "code",
   "execution_count": 1,
   "id": "29eb9d67-8bd2-4156-a819-abf6e15200f8",
   "metadata": {},
   "outputs": [],
   "source": [
    "import pickle\n",
    "import numpy as np\n",
    "import datetime\n",
    "import matplotlib.pyplot as plt\n",
    "\n",
    "colorbar_dict = {}\n",
    "# n_multivariate_cmaps\n",
    "with open(r\"n_multivariate_cmaps.pickle\", \"rb\") as input_file:\n",
    "    d = pickle.load(input_file)\n",
    "    for key in d.keys():\n",
    "        colorbar_dict[key] = d[key]\n",
    "\n",
    "# 2_multivariate_cmaps\n",
    "with open(r\"2vars.pickle\", \"rb\") as input_file:\n",
    "    d = pickle.load(input_file)\n",
    "    for key in d.keys():\n",
    "        colorbar_dict[key] = d[key]\n",
    "# 3_multivariate_cmaps\n",
    "with open(r\"3vars.pickle\", \"rb\") as input_file:\n",
    "    d = pickle.load(input_file)\n",
    "    for key in d.keys():\n",
    "        colorbar_dict[key] = d[key]"
   ]
  },
  {
   "cell_type": "code",
   "execution_count": 2,
   "id": "5867b5e2-22af-48f8-8f51-bbf20e60d9f3",
   "metadata": {},
   "outputs": [],
   "source": [
    "import datetime\n",
    "output_string = f'# auto-genreated by https://github.com/trygvrad/multivariate_colormaps\\n'\n",
    "output_string += f'# date: {str(datetime.datetime.today())[:10]}\\n\\n'\n",
    "output_string += 'from .colors import ListedColormap, MultivarColormap\\n'\n",
    "\n",
    "for key in colorbar_dict.keys():\n",
    "    prefix = f'_{key}_data = '\n",
    "    indent = ' '*len(prefix)\n",
    "    output_string += prefix\n",
    "    output_string += np.array2string(colorbar_dict[key], separator=', ', precision=3, \n",
    "                                formatter={'float_kind':lambda x: \"%.3f\" % x}).replace('\\n ',f'\\n {indent}')\n",
    "    output_string += f'\\n\\n'"
   ]
  },
  {
   "cell_type": "code",
   "execution_count": 3,
   "id": "6fc2ebdf-afb0-4b12-987a-81f8d9aaddb1",
   "metadata": {},
   "outputs": [],
   "source": [
    "output_string += 'cmaps = {\\n'\n",
    "output_string += '    name: ListedColormap(data, name=name) for name, data in [\\n'\n",
    "for key in colorbar_dict.keys():\n",
    "    output_string += f\"        ('{key}', _{key}_data),\\n\"\n",
    "    \n",
    "output_string += f\"        ('8VarAddA0', _4VarAddA0_data),\\n\"\n",
    "output_string += f\"        ('8VarAddA1', _4VarAddB0_data),\\n\"\n",
    "output_string += f\"        ('8VarAddA2', _4VarAddA1_data),\\n\"\n",
    "output_string += f\"        ('8VarAddA3', _4VarAddB1_data),\\n\"\n",
    "output_string += f\"        ('8VarAddA4', _4VarAddA2_data),\\n\"\n",
    "output_string += f\"        ('8VarAddA5', _4VarAddB2_data),\\n\"\n",
    "output_string += f\"        ('8VarAddA6', _4VarAddA3_data),\\n\"\n",
    "output_string += f\"        ('8VarAddA7', _4VarAddB3_data),\\n\"\n",
    "\n",
    "output_string += f\"        ('8VarAddC0', _4VarAddC0_data),\\n\"\n",
    "output_string += f\"        ('8VarAddC1', _4VarAddD0_data),\\n\"\n",
    "output_string += f\"        ('8VarAddC2', _4VarAddC1_data),\\n\"\n",
    "output_string += f\"        ('8VarAddC3', _4VarAddD1_data),\\n\"\n",
    "output_string += f\"        ('8VarAddC4', _4VarAddC2_data),\\n\"\n",
    "output_string += f\"        ('8VarAddC5', _4VarAddD2_data),\\n\"\n",
    "output_string += f\"        ('8VarAddC6', _4VarAddC3_data),\\n\"\n",
    "output_string += f\"        ('8VarAddC7', _4VarAddD3_data),\\n\"\n",
    "    \n",
    "output_string += f\"        ('8VarSubA0', _4VarSubA0_data),\\n\"\n",
    "output_string += f\"        ('8VarSubA1', _4VarSubB0_data),\\n\"\n",
    "output_string += f\"        ('8VarSubA2', _4VarSubA1_data),\\n\"\n",
    "output_string += f\"        ('8VarSubA3', _4VarSubB1_data),\\n\"\n",
    "output_string += f\"        ('8VarSubA4', _4VarSubA2_data),\\n\"\n",
    "output_string += f\"        ('8VarSubA5', _4VarSubB2_data),\\n\"\n",
    "output_string += f\"        ('8VarSubA6', _4VarSubA3_data),\\n\"\n",
    "output_string += f\"        ('8VarSubA7', _4VarSubB3_data),\\n\"\n",
    "\n",
    "output_string += f\"        ('8VarSubC0', _4VarSubC0_data),\\n\"\n",
    "output_string += f\"        ('8VarSubC1', _4VarSubD0_data),\\n\"\n",
    "output_string += f\"        ('8VarSubC2', _4VarSubC1_data),\\n\"\n",
    "output_string += f\"        ('8VarSubC3', _4VarSubD1_data),\\n\"\n",
    "output_string += f\"        ('8VarSubC4', _4VarSubC2_data),\\n\"\n",
    "output_string += f\"        ('8VarSubC5', _4VarSubD2_data),\\n\"\n",
    "output_string += f\"        ('8VarSubC6', _4VarSubC3_data),\\n\"\n",
    "output_string += f\"        ('8VarSubC7', _4VarSubD3_data),\\n\"\n",
    "    \n",
    "output_string += '    ]}\\n'"
   ]
  },
  {
   "cell_type": "code",
   "execution_count": 4,
   "id": "e7358c57-2496-4c6a-bfbd-df818cd14ce3",
   "metadata": {},
   "outputs": [],
   "source": [
    "output_string += '\\n'\n",
    "output_string += 'cmap_families = {\\n'\n",
    "names = []\n",
    "for n in range(2, 9):\n",
    "    names.append(f'{n}VarAddA')\n",
    "    names.append(f'{n}VarSubA')\n",
    "for n in range(2, 5):\n",
    "    names.append(f'{n}VarAddB')\n",
    "    names.append(f'{n}VarSubB')\n",
    "for n in range(3, 9):\n",
    "    names.append(f'{n}VarAddC')\n",
    "    names.append(f'{n}VarSubC')\n",
    "for n in range(3, 5):\n",
    "    names.append(f'{n}VarAddD')\n",
    "    names.append(f'{n}VarSubD')\n",
    "names = sorted(names)\n",
    "for name in names:\n",
    "    n = int(name[0])\n",
    "    mode = 'Add'\n",
    "    if 'Sub' in name:\n",
    "        mode = 'Sub'\n",
    "    output_string += f\"    '{name}': MultivarColormap('{name}', [cmaps['{name}' + str(i)] for\\n                                              i in range({n})], '{mode}'),\\n\"\n",
    "output_string += '}\\n'"
   ]
  },
  {
   "cell_type": "code",
   "execution_count": null,
   "id": "61fd9e43-1950-4546-bb35-7e56c7517049",
   "metadata": {},
   "outputs": [],
   "source": []
  },
  {
   "cell_type": "code",
   "execution_count": 5,
   "id": "1d2d8cc8-da0b-49cf-aa44-104b5e87908f",
   "metadata": {},
   "outputs": [],
   "source": [
    "with open('_cm_listed_multivar.py','w') as f:\n",
    "    f.write(output_string)"
   ]
  },
  {
   "cell_type": "markdown",
   "id": "0bc6b1e3-9fda-4725-a1cd-ab83315e69a9",
   "metadata": {},
   "source": [
    "# make pickle"
   ]
  },
  {
   "cell_type": "code",
   "execution_count": 6,
   "id": "8b76827a-6362-49b8-81fb-8b809144018d",
   "metadata": {},
   "outputs": [],
   "source": [
    "import pickle\n",
    "with open(r\"all_multivariate_cmaps.pickle\", \"wb\") as output_file:\n",
    "    pickle.dump(colorbar_dict, output_file)"
   ]
  },
  {
   "cell_type": "code",
   "execution_count": null,
   "id": "a2a35359-960e-4fa9-9fea-77e920a84e89",
   "metadata": {},
   "outputs": [],
   "source": []
  },
  {
   "cell_type": "code",
   "execution_count": null,
   "id": "4ba7fe23-7420-4c7a-afbd-54b5e4677b32",
   "metadata": {},
   "outputs": [],
   "source": []
  }
 ],
 "metadata": {
  "kernelspec": {
   "display_name": "Python 3 (ipykernel)",
   "language": "python",
   "name": "python3"
  },
  "language_info": {
   "codemirror_mode": {
    "name": "ipython",
    "version": 3
   },
   "file_extension": ".py",
   "mimetype": "text/x-python",
   "name": "python",
   "nbconvert_exporter": "python",
   "pygments_lexer": "ipython3",
   "version": "3.8.10"
  }
 },
 "nbformat": 4,
 "nbformat_minor": 5
}
